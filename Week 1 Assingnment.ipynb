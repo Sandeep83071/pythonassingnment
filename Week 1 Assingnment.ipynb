{
 "cells": [
  {
   "cell_type": "markdown",
   "id": "84203171",
   "metadata": {},
   "source": [
    "Q1.Create one variable containig following type of data type:\n",
    "\n",
    "(i) string\n",
    "(ii) list\n",
    "(iii) float\n",
    "(iv) tuple"
   ]
  },
  {
   "cell_type": "code",
   "execution_count": 1,
   "id": "a441561f",
   "metadata": {},
   "outputs": [
    {
     "name": "stdout",
     "output_type": "stream",
     "text": [
      "Sandeep <class 'str'>\n"
     ]
    }
   ],
   "source": [
    "one = \"Sandeep\"\n",
    "print(one,type(one))"
   ]
  },
  {
   "cell_type": "code",
   "execution_count": 2,
   "id": "193c3efc",
   "metadata": {},
   "outputs": [
    {
     "name": "stdout",
     "output_type": "stream",
     "text": [
      "[2, 33, 56, 'sandeep', True, 23.34, (3+4j)] <class 'list'>\n"
     ]
    }
   ],
   "source": [
    "two = [2,33,56,'sandeep',True,23.34,3+4j]\n",
    "print(two,type(two))"
   ]
  },
  {
   "cell_type": "code",
   "execution_count": 3,
   "id": "a131ed95",
   "metadata": {},
   "outputs": [
    {
     "name": "stdout",
     "output_type": "stream",
     "text": [
      "34.56 <class 'float'>\n"
     ]
    }
   ],
   "source": [
    "third = 34.56\n",
    "print(third,type(third))"
   ]
  },
  {
   "cell_type": "code",
   "execution_count": 4,
   "id": "40027c12",
   "metadata": {},
   "outputs": [
    {
     "name": "stdout",
     "output_type": "stream",
     "text": [
      "(23, 45, 33, 'sandeep', False, 33.33, (4+7j)) <class 'tuple'>\n"
     ]
    }
   ],
   "source": [
    "fourth = (23,45,33,'sandeep',False,33.33,4+7j)\n",
    "print(fourth,type(fourth))"
   ]
  },
  {
   "cell_type": "markdown",
   "id": "a93a561f",
   "metadata": {},
   "source": [
    "Q2. Given are some following variables containing data:\n",
    "(i) var1 = ‘ ‘\n",
    "(ii) var2 = ‘[ DS , ML , Python]’\n",
    "(iii) var3 = [ ‘DS’ , ’ML’ , ‘Python’ ]\n",
    "(iv) var4 = 1."
   ]
  },
  {
   "cell_type": "code",
   "execution_count": 8,
   "id": "b19ea22b",
   "metadata": {},
   "outputs": [
    {
     "data": {
      "text/plain": [
       "str"
      ]
     },
     "execution_count": 8,
     "metadata": {},
     "output_type": "execute_result"
    }
   ],
   "source": [
    "var = '' \n",
    "type(var)"
   ]
  },
  {
   "cell_type": "code",
   "execution_count": 6,
   "id": "58782e45",
   "metadata": {},
   "outputs": [
    {
     "data": {
      "text/plain": [
       "str"
      ]
     },
     "execution_count": 6,
     "metadata": {},
     "output_type": "execute_result"
    }
   ],
   "source": [
    "var2='[DS,ML,Python]'\n",
    "type(var2)"
   ]
  },
  {
   "cell_type": "code",
   "execution_count": 10,
   "id": "b313f5ac",
   "metadata": {},
   "outputs": [
    {
     "data": {
      "text/plain": [
       "list"
      ]
     },
     "execution_count": 10,
     "metadata": {},
     "output_type": "execute_result"
    }
   ],
   "source": [
    "var3 = [ 'DS' , 'ML' , 'Python' ]\n",
    "type(var3)"
   ]
  },
  {
   "cell_type": "code",
   "execution_count": 11,
   "id": "7df16211",
   "metadata": {},
   "outputs": [
    {
     "data": {
      "text/plain": [
       "int"
      ]
     },
     "execution_count": 11,
     "metadata": {},
     "output_type": "execute_result"
    }
   ],
   "source": [
    "var4 = 1\n",
    "type(var4)"
   ]
  },
  {
   "cell_type": "markdown",
   "id": "b9270bf8",
   "metadata": {},
   "source": [
    "Q3. Explain the use of the following operators using an example:\n",
    "(i) /\n",
    "(ii) %\n",
    "(iii) //\n",
    "(iv) **"
   ]
  },
  {
   "cell_type": "code",
   "execution_count": 12,
   "id": "9aa8abd4",
   "metadata": {},
   "outputs": [
    {
     "data": {
      "text/plain": [
       "5.0"
      ]
     },
     "execution_count": 12,
     "metadata": {},
     "output_type": "execute_result"
    }
   ],
   "source": [
    "a=20\n",
    "b=4\n",
    "a/b"
   ]
  },
  {
   "cell_type": "code",
   "execution_count": 17,
   "id": "a78130b8",
   "metadata": {},
   "outputs": [
    {
     "data": {
      "text/plain": [
       "2"
      ]
     },
     "execution_count": 17,
     "metadata": {},
     "output_type": "execute_result"
    }
   ],
   "source": [
    "a=20\n",
    "b=3\n",
    "a%b"
   ]
  },
  {
   "cell_type": "code",
   "execution_count": 18,
   "id": "b7ce0ebc",
   "metadata": {},
   "outputs": [
    {
     "data": {
      "text/plain": [
       "16"
      ]
     },
     "execution_count": 18,
     "metadata": {},
     "output_type": "execute_result"
    }
   ],
   "source": [
    "a=50\n",
    "b=3\n",
    "a//b"
   ]
  },
  {
   "cell_type": "code",
   "execution_count": 19,
   "id": "70b29ec2",
   "metadata": {},
   "outputs": [
    {
     "data": {
      "text/plain": [
       "8"
      ]
     },
     "execution_count": 19,
     "metadata": {},
     "output_type": "execute_result"
    }
   ],
   "source": [
    "a=2\n",
    "b=3\n",
    "a**b"
   ]
  },
  {
   "cell_type": "markdown",
   "id": "098da705",
   "metadata": {},
   "source": [
    "Q4. Create a list of length 10 of your choice containing multiple types of data. Using for loop print the\n",
    "element and its data type."
   ]
  },
  {
   "cell_type": "code",
   "execution_count": 20,
   "id": "e8caa923",
   "metadata": {},
   "outputs": [
    {
     "name": "stdout",
     "output_type": "stream",
     "text": [
      "<class 'int'>\n",
      "<class 'int'>\n",
      "<class 'int'>\n",
      "<class 'int'>\n",
      "<class 'str'>\n",
      "<class 'bool'>\n",
      "<class 'float'>\n",
      "<class 'complex'>\n",
      "<class 'str'>\n",
      "<class 'int'>\n"
     ]
    }
   ],
   "source": [
    "my_list = [23,45,6,7,'sandeep',True,45.66,5+8j,'pwskills',76]\n",
    "for x in my_list:\n",
    "    print(type(x))"
   ]
  },
  {
   "cell_type": "markdown",
   "id": "f18aaca4",
   "metadata": {},
   "source": [
    "Q5. Using a while loop, verify if the number A is purely divisible by number B and if so then how many\n",
    "times it can be divisible."
   ]
  },
  {
   "cell_type": "code",
   "execution_count": 29,
   "id": "836da183",
   "metadata": {},
   "outputs": [
    {
     "name": "stdout",
     "output_type": "stream",
     "text": [
      "enter a num80\n",
      "enter a num5\n",
      "0\n"
     ]
    }
   ],
   "source": [
    "a = int(input('enter a num'))\n",
    "b= int(input('enter a num'))\n",
    "counter = 0\n",
    "while counter>0:\n",
    "    if (a//b)==0:\n",
    "        counter+=1\n",
    "print(counter)"
   ]
  },
  {
   "cell_type": "markdown",
   "id": "de9045d4",
   "metadata": {},
   "source": [
    "Q6. Create a list containing 25 int type data. Using for loop and if-else condition print if the element is\n",
    "divisible by 3 or not."
   ]
  },
  {
   "cell_type": "code",
   "execution_count": 31,
   "id": "8d5b9827",
   "metadata": {},
   "outputs": [
    {
     "name": "stdout",
     "output_type": "stream",
     "text": [
      "4 not divisible by 3\n",
      "6 elements divisible by 3\n",
      "8 not divisible by 3\n",
      "7 not divisible by 3\n",
      "98 not divisible by 3\n",
      "78 elements divisible by 3\n",
      "67 not divisible by 3\n",
      "56 not divisible by 3\n",
      "45 elements divisible by 3\n",
      "34 not divisible by 3\n",
      "43 not divisible by 3\n",
      "23 not divisible by 3\n",
      "45 elements divisible by 3\n",
      "6 elements divisible by 3\n",
      "7 not divisible by 3\n",
      "99 elements divisible by 3\n",
      "89 not divisible by 3\n",
      "567 elements divisible by 3\n",
      "765 elements divisible by 3\n",
      "4456 not divisible by 3\n",
      "4334 not divisible by 3\n",
      "2345 not divisible by 3\n",
      "33455 not divisible by 3\n",
      "334 not divisible by 3\n",
      "53455 not divisible by 3\n",
      "34554 elements divisible by 3\n",
      "45554 not divisible by 3\n",
      "765 elements divisible by 3\n",
      "765 elements divisible by 3\n",
      "76534 not divisible by 3\n",
      "345 elements divisible by 3\n",
      "765 elements divisible by 3\n",
      "890 not divisible by 3\n",
      "987 elements divisible by 3\n",
      "5678 not divisible by 3\n",
      "8765 not divisible by 3\n",
      "4568764 not divisible by 3\n",
      "567654 elements divisible by 3\n",
      "56788 not divisible by 3\n"
     ]
    }
   ],
   "source": [
    "my_list = [4,6,8,7,98,78,67,56,45,34,43,23,45,6,7,99,89,567,765,4456,4334,2345,33455,334,53455,34554,45554,765,765,76534,345,765,890,987,5678,8765,4568764,567654,56788]\n",
    "for x in my_list:\n",
    "    if x%3==0:\n",
    "        print(x,'elements divisible by 3')\n",
    "    else:\n",
    "        print(x,'not divisible by 3')"
   ]
  },
  {
   "cell_type": "markdown",
   "id": "c312ed53",
   "metadata": {},
   "source": [
    "Q7. What do you understand about mutable and immutable data types? Give examples for both showing\n",
    "this property."
   ]
  },
  {
   "cell_type": "code",
   "execution_count": null,
   "id": "574065ce",
   "metadata": {},
   "outputs": [],
   "source": [
    "Mutable data types = mutables data types are those datatypes whose value can be changed in place after ther have been created.\n",
    "example = list,dictionart,set\n",
    "\n",
    "\n",
    "immutable data types = are those data types that cannot be modified or alter after they have been created.\n",
    "example = int,float,tuple,string,complex\n"
   ]
  }
 ],
 "metadata": {
  "kernelspec": {
   "display_name": "Python 3 (ipykernel)",
   "language": "python",
   "name": "python3"
  },
  "language_info": {
   "codemirror_mode": {
    "name": "ipython",
    "version": 3
   },
   "file_extension": ".py",
   "mimetype": "text/x-python",
   "name": "python",
   "nbconvert_exporter": "python",
   "pygments_lexer": "ipython3",
   "version": "3.11.4"
  }
 },
 "nbformat": 4,
 "nbformat_minor": 5
}
